{
 "cells": [
  {
   "cell_type": "markdown",
   "metadata": {},
   "source": [
    "# write python programm to find the area of a triangle\n",
    "# s = (a+b+c)/2 --> semi-Perimeter\n",
    "# area = (s(s-a)*(s-b)*(s-c)) ** 0.5"
   ]
  },
  {
   "cell_type": "code",
   "execution_count": 2,
   "metadata": {},
   "outputs": [
    {
     "ename": "TypeError",
     "evalue": "'float' object is not callable",
     "output_type": "error",
     "traceback": [
      "\u001b[1;31m---------------------------------------------------------------------------\u001b[0m",
      "\u001b[1;31mTypeError\u001b[0m                                 Traceback (most recent call last)",
      "Cell \u001b[1;32mIn[2], line 6\u001b[0m\n\u001b[0;32m      3\u001b[0m c \u001b[38;5;241m=\u001b[39m \u001b[38;5;241m16\u001b[39m\n\u001b[0;32m      5\u001b[0m trangle \u001b[38;5;241m=\u001b[39m (a\u001b[38;5;241m+\u001b[39mb\u001b[38;5;241m+\u001b[39mc)\u001b[38;5;241m/\u001b[39m\u001b[38;5;241m2\u001b[39m\n\u001b[1;32m----> 6\u001b[0m area \u001b[38;5;241m=\u001b[39m (trangle(trangle\u001b[38;5;241m-\u001b[39ma)\u001b[38;5;241m*\u001b[39m(trangle\u001b[38;5;241m-\u001b[39mb)\u001b[38;5;241m*\u001b[39m(trangle\u001b[38;5;241m-\u001b[39mc)) \u001b[38;5;66;03m#** 0.5\u001b[39;00m\n\u001b[0;32m      7\u001b[0m \u001b[38;5;28mprint\u001b[39m \u001b[38;5;241m=\u001b[39m (area)\n",
      "\u001b[1;31mTypeError\u001b[0m: 'float' object is not callable"
     ]
    }
   ],
   "source": [
    "a = 8\n",
    "b= 10\n",
    "c = 16\n",
    "\n",
    "trangle = (a+b+c)/2\n",
    "area = (trangle(trangle-a)*(trangle-b)*(trangle-c)) #** 0.5\n",
    "print = (area)\n",
    "\n"
   ]
  },
  {
   "cell_type": "code",
   "execution_count": 11,
   "metadata": {},
   "outputs": [
    {
     "name": "stdout",
     "output_type": "stream",
     "text": [
      "Vowel count: 10\n",
      "consonant count: 15\n"
     ]
    }
   ],
   "source": [
    "# write python program to count ' vowels' and 'consonants' in a string.\n",
    "\n",
    "name = \"Chinnaswami muthuswami Iyer\"\n",
    "Vowels = \"a,e,i,o,u,A,E,I,O,U\"\n",
    "Vowel_count = 0\n",
    "\n",
    "consonant_count = 0\n",
    "\n",
    "for i in name:\n",
    "    if i in Vowels:\n",
    "        Vowel_count = Vowel_count +1\n",
    "    elif i == \" \":\n",
    "        continue   \n",
    "    else:\n",
    "        consonant_count = consonant_count +1\n",
    "print(f\"Vowel count: {Vowel_count}\")    \n",
    "print(f\"consonant count: {consonant_count}\")\n",
    "\n"
   ]
  },
  {
   "cell_type": "code",
   "execution_count": null,
   "metadata": {},
   "outputs": [],
   "source": [
    "# pseudo code for q2\n",
    "# step-1 create a string containing all vowels\n",
    "#step-2 create variables for storing the total count of vowels and consonant\n",
    "#step-3 create a for loop which checks every charecter in the string\n",
    "#step-4 check is charector is vovel ( using is -else)\n",
    "#step=5 if a charecter is vowe; increse consenant by 1\n",
    "#step=6 if a charector is not vowel increse consonent by 1\n",
    "#step=7 print the value of vovels and consonant"
   ]
  }
 ],
 "metadata": {
  "kernelspec": {
   "display_name": "base",
   "language": "python",
   "name": "python3"
  },
  "language_info": {
   "codemirror_mode": {
    "name": "ipython",
    "version": 3
   },
   "file_extension": ".py",
   "mimetype": "text/x-python",
   "name": "python",
   "nbconvert_exporter": "python",
   "pygments_lexer": "ipython3",
   "version": "3.12.7"
  }
 },
 "nbformat": 4,
 "nbformat_minor": 2
}
