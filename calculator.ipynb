{
 "cells": [
  {
   "cell_type": "code",
   "execution_count": null,
   "metadata": {},
   "outputs": [],
   "source": [
    "def add(x ,y):\n",
    "    print(x+y)\n",
    "\n",
    "def substract(x ,y):\n",
    "    print(x-y)\n",
    "\n",
    "def multiply(x ,y):\n",
    "    print(x*y)\n",
    "\n",
    "def divide(x ,y):\n",
    "    print(x/y)\n",
    "\n",
    "def modulas(x ,y):\n",
    "    print(x%y)  \n",
    "\n",
    "def power(x ,y):\n",
    "    print(x**y)    \n",
    "\n",
    "\n",
    "number1 = float(input(\"Enter first number: \"))\n",
    "number2 = float(input(\"Enter second number: \"))     \n",
    "\n",
    "print(\"calculator Menu: \")\n",
    "print(\"Type 1 for Addition\")\n",
    "print(\"Type 2 for Substract\")\n",
    "print(\"Type 3 for Multiply\")\n",
    "print(\"Type 4 for Division\")\n",
    "print(\"Type 5 for Remainder\")\n",
    "print(\"Type 6 for Power\")\n",
    "\n",
    "num = int(input(\"Type here: \"))\n",
    "\n",
    "if num==1:\n",
    "    add(number1, number2)\n",
    "elif num==2:\n",
    "    substract(number1, number2)\n",
    "elif num==3:\n",
    "    multiply(number1, number2) \n",
    "elif num==4:\n",
    "    divide(number1, number2)\n",
    "elif num==5:\n",
    "    modulas(number1, number2)\n",
    "elif num==6:\n",
    "    power(number1, number2) \n",
    "else:\n",
    "    print(\"Enter a Valid number.\")                 "
   ]
  }
 ],
 "metadata": {
  "kernelspec": {
   "display_name": "base",
   "language": "python",
   "name": "python3"
  },
  "language_info": {
   "codemirror_mode": {
    "name": "ipython",
    "version": 3
   },
   "file_extension": ".py",
   "mimetype": "text/x-python",
   "name": "python",
   "nbconvert_exporter": "python",
   "pygments_lexer": "ipython3",
   "version": "3.12.7"
  }
 },
 "nbformat": 4,
 "nbformat_minor": 2
}
