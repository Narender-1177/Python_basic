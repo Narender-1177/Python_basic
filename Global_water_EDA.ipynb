{
 "cells": [
  {
   "cell_type": "markdown",
   "metadata": {},
   "source": [
    "# data Loading\n"
   ]
  },
  {
   "cell_type": "code",
   "execution_count": 5,
   "metadata": {},
   "outputs": [],
   "source": [
    "import pandas as pd"
   ]
  },
  {
   "cell_type": "code",
   "execution_count": 6,
   "metadata": {},
   "outputs": [],
   "source": [
    "# Load the dataset (you can use your own file path here)\n",
    "df = pd.read_csv('C:/Users/viren/OneDrive/Desktop/SQL_SKILL_Circle/global_water_consumption.csv')"
   ]
  },
  {
   "cell_type": "code",
   "execution_count": null,
   "metadata": {},
   "outputs": [
    {
     "data": {
      "text/html": [
       "<div>\n",
       "<style scoped>\n",
       "    .dataframe tbody tr th:only-of-type {\n",
       "        vertical-align: middle;\n",
       "    }\n",
       "\n",
       "    .dataframe tbody tr th {\n",
       "        vertical-align: top;\n",
       "    }\n",
       "\n",
       "    .dataframe thead th {\n",
       "        text-align: right;\n",
       "    }\n",
       "</style>\n",
       "<table border=\"1\" class=\"dataframe\">\n",
       "  <thead>\n",
       "    <tr style=\"text-align: right;\">\n",
       "      <th></th>\n",
       "      <th>Country</th>\n",
       "      <th>Year</th>\n",
       "      <th>Total Water Consumption (Billion Cubic Meters)</th>\n",
       "      <th>Per Capita Water Use (Liters per Day)</th>\n",
       "      <th>Water Scarcity Level</th>\n",
       "      <th>Agricultural Water Use (%)</th>\n",
       "      <th>Industrial Water Use (%)</th>\n",
       "      <th>Household Water Use (%)</th>\n",
       "      <th>Rainfall Impact (Annual Precipitation in mm)</th>\n",
       "      <th>Groundwater Depletion Rate (%)</th>\n",
       "    </tr>\n",
       "  </thead>\n",
       "  <tbody>\n",
       "    <tr>\n",
       "      <th>0</th>\n",
       "      <td>Indonesia</td>\n",
       "      <td>2022</td>\n",
       "      <td>895.15</td>\n",
       "      <td>489.73</td>\n",
       "      <td>Low</td>\n",
       "      <td>20.78</td>\n",
       "      <td>13.75</td>\n",
       "      <td>34.99</td>\n",
       "      <td>1075.28</td>\n",
       "      <td>3.10</td>\n",
       "    </tr>\n",
       "    <tr>\n",
       "      <th>1</th>\n",
       "      <td>Indonesia</td>\n",
       "      <td>2024</td>\n",
       "      <td>502.89</td>\n",
       "      <td>311.95</td>\n",
       "      <td>High</td>\n",
       "      <td>48.51</td>\n",
       "      <td>8.44</td>\n",
       "      <td>32.88</td>\n",
       "      <td>2630.69</td>\n",
       "      <td>1.78</td>\n",
       "    </tr>\n",
       "    <tr>\n",
       "      <th>2</th>\n",
       "      <td>Spain</td>\n",
       "      <td>2000</td>\n",
       "      <td>843.39</td>\n",
       "      <td>440.09</td>\n",
       "      <td>Medium</td>\n",
       "      <td>25.16</td>\n",
       "      <td>31.70</td>\n",
       "      <td>34.62</td>\n",
       "      <td>2860.62</td>\n",
       "      <td>4.13</td>\n",
       "    </tr>\n",
       "    <tr>\n",
       "      <th>3</th>\n",
       "      <td>Canada</td>\n",
       "      <td>2021</td>\n",
       "      <td>803.34</td>\n",
       "      <td>478.98</td>\n",
       "      <td>High</td>\n",
       "      <td>45.74</td>\n",
       "      <td>6.13</td>\n",
       "      <td>18.99</td>\n",
       "      <td>1725.50</td>\n",
       "      <td>0.61</td>\n",
       "    </tr>\n",
       "    <tr>\n",
       "      <th>4</th>\n",
       "      <td>Brazil</td>\n",
       "      <td>2022</td>\n",
       "      <td>416.40</td>\n",
       "      <td>353.91</td>\n",
       "      <td>High</td>\n",
       "      <td>26.58</td>\n",
       "      <td>7.95</td>\n",
       "      <td>31.11</td>\n",
       "      <td>988.44</td>\n",
       "      <td>0.80</td>\n",
       "    </tr>\n",
       "  </tbody>\n",
       "</table>\n",
       "</div>"
      ],
      "text/plain": [
       "     Country  Year  Total Water Consumption (Billion Cubic Meters)  \\\n",
       "0  Indonesia  2022                                          895.15   \n",
       "1  Indonesia  2024                                          502.89   \n",
       "2      Spain  2000                                          843.39   \n",
       "3     Canada  2021                                          803.34   \n",
       "4     Brazil  2022                                          416.40   \n",
       "\n",
       "   Per Capita Water Use (Liters per Day) Water Scarcity Level  \\\n",
       "0                                 489.73                  Low   \n",
       "1                                 311.95                 High   \n",
       "2                                 440.09               Medium   \n",
       "3                                 478.98                 High   \n",
       "4                                 353.91                 High   \n",
       "\n",
       "   Agricultural Water Use (%)  Industrial Water Use (%)  \\\n",
       "0                       20.78                     13.75   \n",
       "1                       48.51                      8.44   \n",
       "2                       25.16                     31.70   \n",
       "3                       45.74                      6.13   \n",
       "4                       26.58                      7.95   \n",
       "\n",
       "   Household Water Use (%)  Rainfall Impact (Annual Precipitation in mm)  \\\n",
       "0                    34.99                                       1075.28   \n",
       "1                    32.88                                       2630.69   \n",
       "2                    34.62                                       2860.62   \n",
       "3                    18.99                                       1725.50   \n",
       "4                    31.11                                        988.44   \n",
       "\n",
       "   Groundwater Depletion Rate (%)  \n",
       "0                            3.10  \n",
       "1                            1.78  \n",
       "2                            4.13  \n",
       "3                            0.61  \n",
       "4                            0.80  "
      ]
     },
     "execution_count": 7,
     "metadata": {},
     "output_type": "execute_result"
    }
   ],
   "source": [
    "# Check the first few rows of the dataset\n",
    "\n",
    "df.head()"
   ]
  },
  {
   "cell_type": "code",
   "execution_count": 8,
   "metadata": {},
   "outputs": [
    {
     "name": "stdout",
     "output_type": "stream",
     "text": [
      "<class 'pandas.core.frame.DataFrame'>\n",
      "RangeIndex: 5000 entries, 0 to 4999\n",
      "Data columns (total 10 columns):\n",
      " #   Column                                          Non-Null Count  Dtype  \n",
      "---  ------                                          --------------  -----  \n",
      " 0   Country                                         5000 non-null   object \n",
      " 1   Year                                            5000 non-null   int64  \n",
      " 2   Total Water Consumption (Billion Cubic Meters)  5000 non-null   float64\n",
      " 3   Per Capita Water Use (Liters per Day)           5000 non-null   float64\n",
      " 4   Water Scarcity Level                            5000 non-null   object \n",
      " 5   Agricultural Water Use (%)                      5000 non-null   float64\n",
      " 6   Industrial Water Use (%)                        5000 non-null   float64\n",
      " 7   Household Water Use (%)                         5000 non-null   float64\n",
      " 8   Rainfall Impact (Annual Precipitation in mm)    5000 non-null   float64\n",
      " 9   Groundwater Depletion Rate (%)                  5000 non-null   float64\n",
      "dtypes: float64(7), int64(1), object(2)\n",
      "memory usage: 390.8+ KB\n"
     ]
    }
   ],
   "source": [
    "# Get the structure of the data (number of rows, columns, and data types)\n",
    "\n",
    "df.info()"
   ]
  },
  {
   "cell_type": "code",
   "execution_count": 9,
   "metadata": {},
   "outputs": [
    {
     "data": {
      "text/html": [
       "<div>\n",
       "<style scoped>\n",
       "    .dataframe tbody tr th:only-of-type {\n",
       "        vertical-align: middle;\n",
       "    }\n",
       "\n",
       "    .dataframe tbody tr th {\n",
       "        vertical-align: top;\n",
       "    }\n",
       "\n",
       "    .dataframe thead th {\n",
       "        text-align: right;\n",
       "    }\n",
       "</style>\n",
       "<table border=\"1\" class=\"dataframe\">\n",
       "  <thead>\n",
       "    <tr style=\"text-align: right;\">\n",
       "      <th></th>\n",
       "      <th>Year</th>\n",
       "      <th>Total Water Consumption (Billion Cubic Meters)</th>\n",
       "      <th>Per Capita Water Use (Liters per Day)</th>\n",
       "      <th>Agricultural Water Use (%)</th>\n",
       "      <th>Industrial Water Use (%)</th>\n",
       "      <th>Household Water Use (%)</th>\n",
       "      <th>Rainfall Impact (Annual Precipitation in mm)</th>\n",
       "      <th>Groundwater Depletion Rate (%)</th>\n",
       "    </tr>\n",
       "  </thead>\n",
       "  <tbody>\n",
       "    <tr>\n",
       "      <th>count</th>\n",
       "      <td>5000.000000</td>\n",
       "      <td>5000.000000</td>\n",
       "      <td>5000.000000</td>\n",
       "      <td>5000.000000</td>\n",
       "      <td>5000.000000</td>\n",
       "      <td>5000.000000</td>\n",
       "      <td>5000.000000</td>\n",
       "      <td>5000.000000</td>\n",
       "    </tr>\n",
       "    <tr>\n",
       "      <th>mean</th>\n",
       "      <td>2012.204400</td>\n",
       "      <td>503.459606</td>\n",
       "      <td>276.034040</td>\n",
       "      <td>50.281704</td>\n",
       "      <td>27.753878</td>\n",
       "      <td>24.814150</td>\n",
       "      <td>1547.793364</td>\n",
       "      <td>2.574684</td>\n",
       "    </tr>\n",
       "    <tr>\n",
       "      <th>std</th>\n",
       "      <td>7.205484</td>\n",
       "      <td>284.457947</td>\n",
       "      <td>129.853417</td>\n",
       "      <td>17.397782</td>\n",
       "      <td>12.873524</td>\n",
       "      <td>8.676702</td>\n",
       "      <td>837.198704</td>\n",
       "      <td>1.421690</td>\n",
       "    </tr>\n",
       "    <tr>\n",
       "      <th>min</th>\n",
       "      <td>2000.000000</td>\n",
       "      <td>10.050000</td>\n",
       "      <td>50.110000</td>\n",
       "      <td>20.010000</td>\n",
       "      <td>5.000000</td>\n",
       "      <td>10.000000</td>\n",
       "      <td>100.590000</td>\n",
       "      <td>0.100000</td>\n",
       "    </tr>\n",
       "    <tr>\n",
       "      <th>25%</th>\n",
       "      <td>2006.000000</td>\n",
       "      <td>259.677500</td>\n",
       "      <td>163.710000</td>\n",
       "      <td>35.277500</td>\n",
       "      <td>16.787500</td>\n",
       "      <td>17.370000</td>\n",
       "      <td>833.552500</td>\n",
       "      <td>1.337500</td>\n",
       "    </tr>\n",
       "    <tr>\n",
       "      <th>50%</th>\n",
       "      <td>2012.000000</td>\n",
       "      <td>499.515000</td>\n",
       "      <td>277.445000</td>\n",
       "      <td>50.215000</td>\n",
       "      <td>27.980000</td>\n",
       "      <td>24.800000</td>\n",
       "      <td>1535.670000</td>\n",
       "      <td>2.590000</td>\n",
       "    </tr>\n",
       "    <tr>\n",
       "      <th>75%</th>\n",
       "      <td>2018.000000</td>\n",
       "      <td>751.797500</td>\n",
       "      <td>388.975000</td>\n",
       "      <td>65.480000</td>\n",
       "      <td>38.822500</td>\n",
       "      <td>32.322500</td>\n",
       "      <td>2273.147500</td>\n",
       "      <td>3.822500</td>\n",
       "    </tr>\n",
       "    <tr>\n",
       "      <th>max</th>\n",
       "      <td>2024.000000</td>\n",
       "      <td>999.680000</td>\n",
       "      <td>499.970000</td>\n",
       "      <td>79.990000</td>\n",
       "      <td>50.000000</td>\n",
       "      <td>40.000000</td>\n",
       "      <td>2998.340000</td>\n",
       "      <td>5.000000</td>\n",
       "    </tr>\n",
       "  </tbody>\n",
       "</table>\n",
       "</div>"
      ],
      "text/plain": [
       "              Year  Total Water Consumption (Billion Cubic Meters)  \\\n",
       "count  5000.000000                                     5000.000000   \n",
       "mean   2012.204400                                      503.459606   \n",
       "std       7.205484                                      284.457947   \n",
       "min    2000.000000                                       10.050000   \n",
       "25%    2006.000000                                      259.677500   \n",
       "50%    2012.000000                                      499.515000   \n",
       "75%    2018.000000                                      751.797500   \n",
       "max    2024.000000                                      999.680000   \n",
       "\n",
       "       Per Capita Water Use (Liters per Day)  Agricultural Water Use (%)  \\\n",
       "count                            5000.000000                 5000.000000   \n",
       "mean                              276.034040                   50.281704   \n",
       "std                               129.853417                   17.397782   \n",
       "min                                50.110000                   20.010000   \n",
       "25%                               163.710000                   35.277500   \n",
       "50%                               277.445000                   50.215000   \n",
       "75%                               388.975000                   65.480000   \n",
       "max                               499.970000                   79.990000   \n",
       "\n",
       "       Industrial Water Use (%)  Household Water Use (%)  \\\n",
       "count               5000.000000              5000.000000   \n",
       "mean                  27.753878                24.814150   \n",
       "std                   12.873524                 8.676702   \n",
       "min                    5.000000                10.000000   \n",
       "25%                   16.787500                17.370000   \n",
       "50%                   27.980000                24.800000   \n",
       "75%                   38.822500                32.322500   \n",
       "max                   50.000000                40.000000   \n",
       "\n",
       "       Rainfall Impact (Annual Precipitation in mm)  \\\n",
       "count                                   5000.000000   \n",
       "mean                                    1547.793364   \n",
       "std                                      837.198704   \n",
       "min                                      100.590000   \n",
       "25%                                      833.552500   \n",
       "50%                                     1535.670000   \n",
       "75%                                     2273.147500   \n",
       "max                                     2998.340000   \n",
       "\n",
       "       Groundwater Depletion Rate (%)  \n",
       "count                     5000.000000  \n",
       "mean                         2.574684  \n",
       "std                          1.421690  \n",
       "min                          0.100000  \n",
       "25%                          1.337500  \n",
       "50%                          2.590000  \n",
       "75%                          3.822500  \n",
       "max                          5.000000  "
      ]
     },
     "execution_count": 9,
     "metadata": {},
     "output_type": "execute_result"
    }
   ],
   "source": [
    "# Get basic statistics for numeric columns\n",
    "\n",
    "df.describe()"
   ]
  },
  {
   "cell_type": "code",
   "execution_count": 10,
   "metadata": {},
   "outputs": [
    {
     "data": {
      "text/plain": [
       "Country                                           0\n",
       "Year                                              0\n",
       "Total Water Consumption (Billion Cubic Meters)    0\n",
       "Per Capita Water Use (Liters per Day)             0\n",
       "Water Scarcity Level                              0\n",
       "Agricultural Water Use (%)                        0\n",
       "Industrial Water Use (%)                          0\n",
       "Household Water Use (%)                           0\n",
       "Rainfall Impact (Annual Precipitation in mm)      0\n",
       "Groundwater Depletion Rate (%)                    0\n",
       "dtype: int64"
      ]
     },
     "execution_count": 10,
     "metadata": {},
     "output_type": "execute_result"
    }
   ],
   "source": [
    "#Checking missing Values\n",
    "\n",
    "df.isnull().sum() "
   ]
  },
  {
   "cell_type": "code",
   "execution_count": null,
   "metadata": {},
   "outputs": [],
   "source": [
    "# Optionally, you can fill missing values (with mean, median, etc.)\n",
    "\n",
    "df.fillna(df.mean(), inplace=True)  # Example to fill NaN with column mean"
   ]
  },
  {
   "cell_type": "code",
   "execution_count": 11,
   "metadata": {},
   "outputs": [
    {
     "name": "stdout",
     "output_type": "stream",
     "text": [
      "Country                                            object\n",
      "Year                                                int64\n",
      "Total Water Consumption (Billion Cubic Meters)    float64\n",
      "Per Capita Water Use (Liters per Day)             float64\n",
      "Water Scarcity Level                               object\n",
      "Agricultural Water Use (%)                        float64\n",
      "Industrial Water Use (%)                          float64\n",
      "Household Water Use (%)                           float64\n",
      "Rainfall Impact (Annual Precipitation in mm)      float64\n",
      "Groundwater Depletion Rate (%)                    float64\n",
      "dtype: object\n"
     ]
    }
   ],
   "source": [
    "# Check the data types of the columns\n",
    "\n",
    "print(df.dtypes)"
   ]
  },
  {
   "cell_type": "code",
   "execution_count": 12,
   "metadata": {},
   "outputs": [],
   "source": [
    "import matplotlib.pyplot as plt\n",
    "import seaborn as sns"
   ]
  },
  {
   "cell_type": "code",
   "execution_count": 18,
   "metadata": {},
   "outputs": [],
   "source": [
    "import seaborn as sns"
   ]
  },
  {
   "cell_type": "code",
   "execution_count": 14,
   "metadata": {},
   "outputs": [
    {
     "data": {
      "image/png": "[encoded data removed]",
      "text/plain": [
       "<Figure size 640x480 with 1 Axes>"
      ]
     },
     "metadata": {},
     "output_type": "display_data"
    }
   ],
   "source": [
    "# Histogram for a numerical column\n",
    "df['Country'].hist()\n",
    "plt.show()"
   ]
  }
 ],
 "metadata": {
  "kernelspec": {
   "display_name": "Python 3",
   "language": "python",
   "name": "python3"
  },
  "language_info": {
   "codemirror_mode": {
    "name": "ipython",
    "version": 3
   },
   "file_extension": ".py",
   "mimetype": "text/x-python",
   "name": "python",
   "nbconvert_exporter": "python",
   "pygments_lexer": "ipython3",
   "version": "3.13.0"
  }
 },
 "nbformat": 4,
 "nbformat_minor": 2
}
